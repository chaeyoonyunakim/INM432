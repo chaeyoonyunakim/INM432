{
  "nbformat": 4,
  "nbformat_minor": 0,
  "metadata": {
    "colab": {
      "name": "Untitled2.ipynb",
      "provenance": [],
      "collapsed_sections": [],
      "authorship_tag": "ABX9TyMbP3woWJKyAnxhv4W8/QAv",
      "include_colab_link": true
    },
    "kernelspec": {
      "name": "python3",
      "display_name": "Python 3"
    },
    "language_info": {
      "name": "python"
    },
    "accelerator": "GPU"
  },
  "cells": [
    {
      "cell_type": "markdown",
      "metadata": {
        "id": "view-in-github",
        "colab_type": "text"
      },
      "source": [
        "<a href=\"https://colab.research.google.com/github/chaeyoonyunakim/NLP-IR-QA/blob/main/Untitled2.ipynb\" target=\"_parent\"><img src=\"https://colab.research.google.com/assets/colab-badge.svg\" alt=\"Open In Colab\"/></a>"
      ]
    },
    {
      "cell_type": "markdown",
      "metadata": {
        "id": "KJTuC9uKBmm3"
      },
      "source": [
        "## 0. Environment setup"
      ]
    },
    {
      "cell_type": "code",
      "metadata": {
        "colab": {
          "base_uri": "https://localhost:8080/"
        },
        "id": "6KLY3vxp15Xh",
        "outputId": "a00cdb70-5c3d-4c16-bfdb-03421fef282d"
      },
      "source": [
        "from google.colab import drive # mount google drive\n",
        "drive.mount('/content/drive') # authorization\n",
        "%ls -l \"/content/drive/My Drive/2021_INM363_SMART/smarttask_dbpedia_train.json\""
      ],
      "execution_count": 1,
      "outputs": [
        {
          "output_type": "stream",
          "name": "stdout",
          "text": [
            "Drive already mounted at /content/drive; to attempt to forcibly remount, call drive.mount(\"/content/drive\", force_remount=True).\n",
            "-rw------- 1 root root 3601280 Feb 23  2021 '/content/drive/My Drive/2021_INM363_SMART/smarttask_dbpedia_train.json'\n"
          ]
        }
      ]
    },
    {
      "cell_type": "code",
      "metadata": {
        "colab": {
          "base_uri": "https://localhost:8080/"
        },
        "id": "MF1IBXJoBdhd",
        "outputId": "f21a853d-4c19-4db2-c707-19088a6ba539"
      },
      "source": [
        "!nvidia-smi"
      ],
      "execution_count": 2,
      "outputs": [
        {
          "output_type": "stream",
          "name": "stdout",
          "text": [
            "Sat Sep  4 13:16:20 2021       \n",
            "+-----------------------------------------------------------------------------+\n",
            "| NVIDIA-SMI 470.63.01    Driver Version: 460.32.03    CUDA Version: 11.2     |\n",
            "|-------------------------------+----------------------+----------------------+\n",
            "| GPU  Name        Persistence-M| Bus-Id        Disp.A | Volatile Uncorr. ECC |\n",
            "| Fan  Temp  Perf  Pwr:Usage/Cap|         Memory-Usage | GPU-Util  Compute M. |\n",
            "|                               |                      |               MIG M. |\n",
            "|===============================+======================+======================|\n",
            "|   0  Tesla K80           Off  | 00000000:00:04.0 Off |                    0 |\n",
            "| N/A   39C    P8    27W / 149W |      0MiB / 11441MiB |      0%      Default |\n",
            "|                               |                      |                  N/A |\n",
            "+-------------------------------+----------------------+----------------------+\n",
            "                                                                               \n",
            "+-----------------------------------------------------------------------------+\n",
            "| Processes:                                                                  |\n",
            "|  GPU   GI   CI        PID   Type   Process name                  GPU Memory |\n",
            "|        ID   ID                                                   Usage      |\n",
            "|=============================================================================|\n",
            "|  No running processes found                                                 |\n",
            "+-----------------------------------------------------------------------------+\n"
          ]
        }
      ]
    },
    {
      "cell_type": "code",
      "metadata": {
        "id": "THji5Cj_2rMB"
      },
      "source": [
        "import pandas as pd\n",
        "import json\n",
        "import numpy as np\n",
        "from numpy import mean\n",
        "from numpy import std\n",
        "import time"
      ],
      "execution_count": 3,
      "outputs": []
    },
    {
      "cell_type": "code",
      "metadata": {
        "id": "OyG2VFkZ2w94",
        "colab": {
          "base_uri": "https://localhost:8080/"
        },
        "outputId": "0a20e04c-dd91-43cc-f2f8-bcc65379888c"
      },
      "source": [
        "import nltk\n",
        "from nltk.tokenize import word_tokenize\n",
        "from collections import defaultdict\n",
        "from nltk.corpus import stopwords\n",
        "nltk.download('stopwords')\n",
        "nltk.download('punkt')\n",
        "#set(stopwords.words('english'))\n",
        "from nltk.stem import PorterStemmer\n",
        "from nltk.stem import WordNetLemmatizer\n",
        "nltk.download('wordnet')"
      ],
      "execution_count": 4,
      "outputs": [
        {
          "output_type": "stream",
          "name": "stdout",
          "text": [
            "[nltk_data] Downloading package stopwords to /root/nltk_data...\n",
            "[nltk_data]   Package stopwords is already up-to-date!\n",
            "[nltk_data] Downloading package punkt to /root/nltk_data...\n",
            "[nltk_data]   Package punkt is already up-to-date!\n",
            "[nltk_data] Downloading package wordnet to /root/nltk_data...\n",
            "[nltk_data]   Package wordnet is already up-to-date!\n"
          ]
        },
        {
          "output_type": "execute_result",
          "data": {
            "text/plain": [
              "True"
            ]
          },
          "metadata": {},
          "execution_count": 4
        }
      ]
    },
    {
      "cell_type": "code",
      "metadata": {
        "id": "re7UB28r2z-P"
      },
      "source": [
        "from sklearn.linear_model import LogisticRegression\n",
        "from sklearn.model_selection import RepeatedStratifiedKFold\n",
        "from sklearn.model_selection import cross_val_score\n",
        "from sklearn.model_selection import train_test_split\n",
        "from sklearn.svm import SVC\n",
        "from sklearn.metrics import precision_recall_fscore_support"
      ],
      "execution_count": 5,
      "outputs": []
    },
    {
      "cell_type": "markdown",
      "metadata": {
        "id": "VwTe9wMf3MpC"
      },
      "source": [
        "## 1. Data Loading & Manipulation"
      ]
    },
    {
      "cell_type": "markdown",
      "metadata": {
        "id": "3jIXs6yPCS1V"
      },
      "source": [
        "***Tabular representation of the training dataset***"
      ]
    },
    {
      "cell_type": "code",
      "metadata": {
        "colab": {
          "base_uri": "https://localhost:8080/",
          "height": 136
        },
        "id": "N1GxpONV3AD5",
        "outputId": "af0e1908-d9d0-4450-f694-0d5a2a5e7454"
      },
      "source": [
        "df_train = pd.read_json('/content/drive/My Drive/2021_INM363_SMART/smarttask_dbpedia_train.json')\n",
        "df_test = pd.read_json('/content/drive/My Drive/2021_INM363_SMART/smarttask_dbpedia_test.json')\n",
        "df_train.head(3)"
      ],
      "execution_count": 6,
      "outputs": [
        {
          "output_type": "execute_result",
          "data": {
            "text/html": [
              "<div>\n",
              "<style scoped>\n",
              "    .dataframe tbody tr th:only-of-type {\n",
              "        vertical-align: middle;\n",
              "    }\n",
              "\n",
              "    .dataframe tbody tr th {\n",
              "        vertical-align: top;\n",
              "    }\n",
              "\n",
              "    .dataframe thead th {\n",
              "        text-align: right;\n",
              "    }\n",
              "</style>\n",
              "<table border=\"1\" class=\"dataframe\">\n",
              "  <thead>\n",
              "    <tr style=\"text-align: right;\">\n",
              "      <th></th>\n",
              "      <th>id</th>\n",
              "      <th>question</th>\n",
              "      <th>category</th>\n",
              "      <th>type</th>\n",
              "    </tr>\n",
              "  </thead>\n",
              "  <tbody>\n",
              "    <tr>\n",
              "      <th>0</th>\n",
              "      <td>dbpedia_1177</td>\n",
              "      <td>Was Jacqueline Kennedy Onassis a follower of M...</td>\n",
              "      <td>boolean</td>\n",
              "      <td>[boolean]</td>\n",
              "    </tr>\n",
              "    <tr>\n",
              "      <th>1</th>\n",
              "      <td>dbpedia_14427</td>\n",
              "      <td>What is the name of the opera based on Twelfth...</td>\n",
              "      <td>resource</td>\n",
              "      <td>[dbo:Opera, dbo:MusicalWork, dbo:Work]</td>\n",
              "    </tr>\n",
              "    <tr>\n",
              "      <th>2</th>\n",
              "      <td>dbpedia_16615</td>\n",
              "      <td>When did Lena Horne receive the Grammy Award f...</td>\n",
              "      <td>literal</td>\n",
              "      <td>[date]</td>\n",
              "    </tr>\n",
              "  </tbody>\n",
              "</table>\n",
              "</div>"
            ],
            "text/plain": [
              "              id  ...                                    type\n",
              "0   dbpedia_1177  ...                               [boolean]\n",
              "1  dbpedia_14427  ...  [dbo:Opera, dbo:MusicalWork, dbo:Work]\n",
              "2  dbpedia_16615  ...                                  [date]\n",
              "\n",
              "[3 rows x 4 columns]"
            ]
          },
          "metadata": {},
          "execution_count": 6
        }
      ]
    },
    {
      "cell_type": "code",
      "metadata": {
        "colab": {
          "base_uri": "https://localhost:8080/"
        },
        "id": "QgeZu4bD3JXL",
        "outputId": "32a9b7df-8d61-4dec-b110-92cfd1fcf4db"
      },
      "source": [
        "df_train.shape, df_test.shape"
      ],
      "execution_count": 7,
      "outputs": [
        {
          "output_type": "execute_result",
          "data": {
            "text/plain": [
              "((17571, 4), (4381, 4))"
            ]
          },
          "metadata": {},
          "execution_count": 7
        }
      ]
    },
    {
      "cell_type": "code",
      "metadata": {
        "colab": {
          "base_uri": "https://localhost:8080/"
        },
        "id": "LJCtM3Ip3MEq",
        "outputId": "d606e8e0-64ed-47cf-c956-f8c2ab7e63fe"
      },
      "source": [
        "df_test.isnull().sum()"
      ],
      "execution_count": 8,
      "outputs": [
        {
          "output_type": "execute_result",
          "data": {
            "text/plain": [
              "id          0\n",
              "question    0\n",
              "category    0\n",
              "type        0\n",
              "dtype: int64"
            ]
          },
          "metadata": {},
          "execution_count": 8
        }
      ]
    },
    {
      "cell_type": "code",
      "metadata": {
        "colab": {
          "base_uri": "https://localhost:8080/"
        },
        "id": "V2MxRjfm3St2",
        "outputId": "7682f69a-0d99-4b86-957d-2ac1e29c93a1"
      },
      "source": [
        "df_train.dropna(subset=['id', 'question', 'category'], inplace=True)\n",
        "df_train.shape"
      ],
      "execution_count": 9,
      "outputs": [
        {
          "output_type": "execute_result",
          "data": {
            "text/plain": [
              "(17528, 4)"
            ]
          },
          "metadata": {},
          "execution_count": 9
        }
      ]
    },
    {
      "cell_type": "code",
      "metadata": {
        "id": "hFPtKOu0hU8R",
        "colab": {
          "base_uri": "https://localhost:8080/"
        },
        "outputId": "ed3f694d-9333-4dad-9219-39a7b6ec4661"
      },
      "source": [
        "text_train = df_train.question.values\n",
        "text_test = df_test.question.values\n",
        "text_test"
      ],
      "execution_count": 10,
      "outputs": [
        {
          "output_type": "execute_result",
          "data": {
            "text/plain": [
              "array(['How many ingredients are in the grain} ?',\n",
              "       'Is the case fatality rate of Fournier gangrene fewer than 9.0?',\n",
              "       'Does the shelf life of spinach equal 8?', ...,\n",
              "       'What is the location of Edmonton',\n",
              "       'In which department does Raymond Baldwin work?',\n",
              "       'What is Actorenregister ID for Utrecht University?'], dtype=object)"
            ]
          },
          "metadata": {},
          "execution_count": 10
        }
      ]
    },
    {
      "cell_type": "markdown",
      "metadata": {
        "id": "RD4T9qTH3din"
      },
      "source": [
        "## 1. Preprocessing the data"
      ]
    },
    {
      "cell_type": "markdown",
      "metadata": {
        "id": "fHAR7GTHENZs"
      },
      "source": [
        "***Clean the corpus***"
      ]
    },
    {
      "cell_type": "code",
      "metadata": {
        "id": "S-YLMZeAhBkl"
      },
      "source": [
        "# training dataset\n",
        "sentences_train = []\n",
        "vocab_train = []\n",
        "tokens_train = []\n",
        "\n",
        "for sent in text_train[:5000]: # take sample 5000 to run a small batch\n",
        "    x = word_tokenize(sent) # tokenization (strip sentences by word)\n",
        "    sentence = [w.lower() for w in x if w.isalpha()] # lower alphabets (filtering non-string characters and then decapitalization)\n",
        "    sentences_train.append(sentence)\n",
        " \n",
        "    for word in sentence:\n",
        "        if word not in vocab_train:\n",
        "            vocab_train.append(word) # remove duplicates\n",
        "            \n",
        "for word in vocab_train:\n",
        "    if word not in stopwords.words(): # filter stopwords out\n",
        "        tokens_train.append(word)"
      ],
      "execution_count": 11,
      "outputs": []
    },
    {
      "cell_type": "code",
      "metadata": {
        "id": "4xiQauWwy3uw"
      },
      "source": [
        "# test dataset\n",
        "sentences_test = []\n",
        "vocab_test = []\n",
        "tokens_test = []\n",
        "\n",
        "for sent in text_test:\n",
        "    x = word_tokenize(sent)\n",
        "    sentence = [w.lower() for w in x if w.isalpha()]\n",
        "    sentences_test.append(sentence)\n",
        " \n",
        "    for word in sentence:\n",
        "        if word not in vocab_test:\n",
        "            vocab_test.append(word)\n",
        "            \n",
        "for word in vocab_test:\n",
        "    if word not in stopwords.words():\n",
        "        tokens_test.append(word)"
      ],
      "execution_count": 12,
      "outputs": []
    },
    {
      "cell_type": "code",
      "metadata": {
        "colab": {
          "base_uri": "https://localhost:8080/"
        },
        "id": "EjEHYA4ELu74",
        "outputId": "1c3c20ca-6a8e-4c3d-eaca-157d44476008"
      },
      "source": [
        "tokens_train[:5]"
      ],
      "execution_count": 13,
      "outputs": [
        {
          "output_type": "execute_result",
          "data": {
            "text/plain": [
              "['jacqueline', 'kennedy', 'onassis', 'follower', 'melkite']"
            ]
          },
          "metadata": {},
          "execution_count": 13
        }
      ]
    },
    {
      "cell_type": "markdown",
      "metadata": {
        "id": "04BOKJ9wFfWp"
      },
      "source": [
        "***Text normalization***"
      ]
    },
    {
      "cell_type": "code",
      "metadata": {
        "id": "NG3vGIJ1gOdO"
      },
      "source": [
        "wordnet_lemmatizer = WordNetLemmatizer()\n",
        "ps = PorterStemmer()\n",
        "\n",
        "def normalize_word(w):\n",
        "   word1 = wordnet_lemmatizer.lemmatize(w, pos = \"n\")\n",
        "   word2 = wordnet_lemmatizer.lemmatize(word1, pos = \"v\")\n",
        "   word3 = wordnet_lemmatizer.lemmatize(word2, pos = (\"a\"))\n",
        "   word = ps.stem(word3)\n",
        "   return word\n",
        "\n",
        "\n",
        "## Define the Bag of Words model function\n",
        "def create_bow(word_list):\n",
        "  ind = 0 \n",
        "  bow = {}\n",
        "  for w in word_list:\n",
        "    _w = normalize_word(w)\n",
        "    if _w not in bow:\n",
        "      bow[_w] = ind \n",
        "      ind += 1 \n",
        "  return bow\n",
        "\n",
        "bow_train = create_bow(tokens_train)\n",
        "bow_test = create_bow(tokens_test)"
      ],
      "execution_count": 14,
      "outputs": []
    },
    {
      "cell_type": "markdown",
      "metadata": {
        "id": "TnMel3J5GQ8M"
      },
      "source": [
        "***Vectorization***"
      ]
    },
    {
      "cell_type": "code",
      "metadata": {
        "id": "rmspa3QgGPY9"
      },
      "source": [
        "## Assign an index to the word\n",
        "label_map = {\"boolean\": 1, \"literal\":2, \"resource\":3}\n",
        "\n",
        "def map_to_vec(df, bow):\n",
        "  # add 1 for now just for the category\n",
        "  # requires additional cols for literals and sub resources for later\n",
        "  ncols = len(bow) + 1 \n",
        "  data = np.zeros(shape = (df.shape[0], ncols ))\n",
        "  \n",
        "  for i in range(df.shape[0]):\n",
        "    # set the label\n",
        "    data[i, -1] = label_map[df.iloc[i, 2]]\n",
        "    # parse the sentence\n",
        "    que = df.iloc[i, 1]\n",
        "    for w in word_tokenize(que):\n",
        "      w = w.lower()\n",
        "      if w.isalpha():\n",
        "        # normalize word\n",
        "        w_norm = normalize_word(w)\n",
        "        if w_norm in bow:\n",
        "          # print(f\"({i}, {w_norm})\")\n",
        "          data[i, bow[w_norm]] += 1 \n",
        "  return data\n",
        "\n",
        "X_train = map_to_vec(df_train, bow_train)\n",
        "X_test = map_to_vec(df_test, bow_test)"
      ],
      "execution_count": 15,
      "outputs": []
    },
    {
      "cell_type": "code",
      "metadata": {
        "colab": {
          "base_uri": "https://localhost:8080/"
        },
        "id": "YMOBJXdVjZDC",
        "outputId": "ed1cae42-bdf5-4641-addf-276a1f035876"
      },
      "source": [
        "X_test"
      ],
      "execution_count": 16,
      "outputs": [
        {
          "output_type": "execute_result",
          "data": {
            "text/plain": [
              "array([[1., 1., 1., ..., 0., 0., 2.],\n",
              "       [0., 0., 0., ..., 0., 0., 1.],\n",
              "       [0., 0., 0., ..., 0., 0., 1.],\n",
              "       ...,\n",
              "       [0., 0., 0., ..., 0., 0., 3.],\n",
              "       [0., 0., 0., ..., 0., 0., 3.],\n",
              "       [0., 0., 0., ..., 1., 1., 2.]])"
            ]
          },
          "metadata": {},
          "execution_count": 16
        }
      ]
    },
    {
      "cell_type": "markdown",
      "metadata": {
        "id": "x3j94wG9IV8T"
      },
      "source": [
        "## 2. Train a classification model"
      ]
    },
    {
      "cell_type": "code",
      "metadata": {
        "id": "VGPB48U6klwU"
      },
      "source": [
        "X1 = X_train[:,:-1]\n",
        "y1 = X_train[:,-1]\n",
        "\n",
        "X2 = X_test[:,:-1]\n",
        "y2 = X_test[:,-1]"
      ],
      "execution_count": 17,
      "outputs": []
    },
    {
      "cell_type": "code",
      "metadata": {
        "colab": {
          "base_uri": "https://localhost:8080/"
        },
        "id": "9wDJefAfAGOr",
        "outputId": "73b8633e-20f3-4746-cf47-4b179c1e2416"
      },
      "source": [
        "X2.shape, y2.shape"
      ],
      "execution_count": 21,
      "outputs": [
        {
          "output_type": "execute_result",
          "data": {
            "text/plain": [
              "((4381, 7078), (4381,))"
            ]
          },
          "metadata": {},
          "execution_count": 21
        }
      ]
    },
    {
      "cell_type": "code",
      "metadata": {
        "id": "ROSj29JsjoE7"
      },
      "source": [
        "X_train, X_val, y_train, y_val = train_test_split(X1, y1, test_size=0.33, random_state=42)"
      ],
      "execution_count": 18,
      "outputs": []
    },
    {
      "cell_type": "markdown",
      "metadata": {
        "id": "N1oM0vw0JetC"
      },
      "source": [
        "***Build a Classifier 1***"
      ]
    },
    {
      "cell_type": "code",
      "metadata": {
        "id": "G94VaWuI8axU",
        "colab": {
          "base_uri": "https://localhost:8080/"
        },
        "outputId": "fa73e76e-3e82-4282-aa46-4724e85d77cd"
      },
      "source": [
        "classifier1 = SVC(kernel = 'linear', random_state = 0)\n",
        "model1 = classifier1.fit(X_train, y_train)\n",
        "y_hat = model1.predict(X_val)\n",
        "precision_recall_fscore_support(y_val, y_hat, average='macro')"
      ],
      "execution_count": 19,
      "outputs": [
        {
          "output_type": "execute_result",
          "data": {
            "text/plain": [
              "(0.8603667791385817, 0.8711753659616533, 0.8638245824194781, None)"
            ]
          },
          "metadata": {},
          "execution_count": 19
        }
      ]
    },
    {
      "cell_type": "markdown",
      "metadata": {
        "id": "Lqct2Tp1UCQ3"
      },
      "source": [
        "***Build a Classifier 2***"
      ]
    },
    {
      "cell_type": "code",
      "metadata": {
        "colab": {
          "base_uri": "https://localhost:8080/"
        },
        "id": "CbD3edQK7btz",
        "outputId": "df7a062c-82fe-4b3a-dca0-27cf023d74b4"
      },
      "source": [
        "# define the multinomial logistic regression model\n",
        "classifier2 = LogisticRegression(multi_class='multinomial', solver='lbfgs')\n",
        "\n",
        "# fit the model on the whole dataset\n",
        "model2 = classifier2.fit(X_train, y_train)\n",
        "\n",
        "# predict the class label\n",
        "y_hat = model2.predict(X_val)\n",
        "\n",
        "precision_recall_fscore_support(y_val, y_hat, average='macro')"
      ],
      "execution_count": 24,
      "outputs": [
        {
          "output_type": "stream",
          "name": "stderr",
          "text": [
            "/usr/local/lib/python3.7/dist-packages/sklearn/linear_model/_logistic.py:940: ConvergenceWarning: lbfgs failed to converge (status=1):\n",
            "STOP: TOTAL NO. of ITERATIONS REACHED LIMIT.\n",
            "\n",
            "Increase the number of iterations (max_iter) or scale the data as shown in:\n",
            "    https://scikit-learn.org/stable/modules/preprocessing.html\n",
            "Please also refer to the documentation for alternative solver options:\n",
            "    https://scikit-learn.org/stable/modules/linear_model.html#logistic-regression\n",
            "  extra_warning_msg=_LOGISTIC_SOLVER_CONVERGENCE_MSG)\n"
          ]
        },
        {
          "output_type": "execute_result",
          "data": {
            "text/plain": [
              "(0.8732083848898715, 0.8742628808802082, 0.8717894933007084, None)"
            ]
          },
          "metadata": {},
          "execution_count": 24
        }
      ]
    },
    {
      "cell_type": "markdown",
      "metadata": {
        "id": "wjdOm8-L-IU-"
      },
      "source": [
        "## 3. Results & Evaluation "
      ]
    },
    {
      "cell_type": "code",
      "metadata": {
        "id": "872YmRSHJomK"
      },
      "source": [
        "# define the model evaluation procedure\n",
        "cv = RepeatedStratifiedKFold(n_splits=10, n_repeats=3, random_state=1)\n",
        "\n",
        "# evaluate the model and collect the scores\n",
        "n_score1 = cross_val_score(model1, X2, y2, scoring='accuracy', cv=cv, n_jobs=-1)\n",
        "n_score2 = cross_val_score(model2, X2, y2, scoring='accuracy', cv=cv, n_jobs=-1)"
      ],
      "execution_count": 26,
      "outputs": []
    },
    {
      "cell_type": "code",
      "metadata": {
        "id": "yC1_YaD9e0tS",
        "colab": {
          "base_uri": "https://localhost:8080/"
        },
        "outputId": "914084ee-6f88-4f69-8c5e-07cf35128d71"
      },
      "source": [
        "# report the model performance\n",
        "print('Mean Accuracy: %.3f (%.3f)' % (mean(n_score1), std(n_score1)))\n",
        "print('Mean Accuracy: %.3f (%.3f)' % (mean(n_score2), std(n_score2)))"
      ],
      "execution_count": 27,
      "outputs": [
        {
          "output_type": "stream",
          "name": "stdout",
          "text": [
            "Mean Accuracy: 0.804 (0.014)\n",
            "Mean Accuracy: 0.817 (0.011)\n"
          ]
        }
      ]
    }
  ]
}