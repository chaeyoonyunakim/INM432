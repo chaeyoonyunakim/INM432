{
 "cells": [
  {
   "cell_type": "code",
   "execution_count": 1,
   "metadata": {},
   "outputs": [],
   "source": [
    "#Name: Chaeyoon Kim\n",
    "#City Email: Chaeyoon.Kim@city.ac.uk"
   ]
  },
  {
   "cell_type": "markdown",
   "metadata": {},
   "source": [
    "## Retrieve .txt from WhatsAppChat\n",
    "\n",
    "1. In your WhatsApp Group, go to **:** - **More** - **Export chat**.\n",
    "2. In Excel, go to **Get External Data** - select the **From Text** option."
   ]
  },
  {
   "cell_type": "markdown",
   "metadata": {},
   "source": [
    "## Preprocessing .txt in Excel\n",
    "\n",
    "1. Use **Delimited** funtionality in Excel to split timestamp and usernumber up.\n",
    "2. Save as **Text(Tab delimited(*.txt)**"
   ]
  },
  {
   "cell_type": "markdown",
   "metadata": {},
   "source": [
    "## Load Data and Stopwords Text File"
   ]
  },
  {
   "cell_type": "code",
   "execution_count": 1,
   "metadata": {},
   "outputs": [],
   "source": [
    "data = open('WhatsAppChat.txt', 'r', encoding='utf-8', errors='ignore')\n",
    "stop = open('stopwords.txt','r')"
   ]
  },
  {
   "cell_type": "markdown",
   "metadata": {},
   "source": [
    "## Create a Bag of Words Dictionary"
   ]
  },
  {
   "cell_type": "code",
   "execution_count": 2,
   "metadata": {},
   "outputs": [],
   "source": [
    "def countWord(data,stop):\n",
    "    word = {}\n",
    "    for line in stop:\n",
    "        words = line.split()\n",
    "        for i in words:\n",
    "            if i in word:\n",
    "                word[i] = word[i] + 1\n",
    "            else:\n",
    "                word[i] = 1\n",
    "    wordDict = {}\n",
    "    for line in data:\n",
    "        lines = line.split()\n",
    "        for i in lines:\n",
    "            i = i.lower()\n",
    "            if i in wordDict and i not in word:\n",
    "                wordDict[i] = wordDict[i] + 1\n",
    "            else:\n",
    "                wordDict[i] = 1\n",
    "    return (wordDict)\n",
    "\n",
    "wordDict = countWord(data, stop)"
   ]
  },
  {
   "cell_type": "markdown",
   "metadata": {},
   "source": [
    "## Sort in Descending order and Organasie in Format"
   ]
  },
  {
   "cell_type": "code",
   "execution_count": 3,
   "metadata": {},
   "outputs": [],
   "source": [
    "def printTop100(wordDict):\n",
    "    words = list(wordDict.keys())\n",
    "    words.sort(reverse=True, key=lambda v:wordDict[v])\n",
    "    for i in range(100): #top100\n",
    "        word = words[i]\n",
    "        print(i+1, ':', word, '=', wordDict[word])"
   ]
  },
  {
   "cell_type": "markdown",
   "metadata": {},
   "source": [
    "## Print Results"
   ]
  },
  {
   "cell_type": "code",
   "execution_count": 4,
   "metadata": {},
   "outputs": [
    {
     "name": "stdout",
     "output_type": "stream",
     "text": [
      "1 : it’s = 50\n",
      "2 : lab = 48\n",
      "3 : find = 34\n",
      "4 : time = 33\n",
      "5 : data = 32\n",
      "6 : work = 30\n",
      "7 : good = 29\n",
      "8 : link = 29\n",
      "9 : group = 29\n",
      "10 : i’m = 29\n",
      "11 : 😂 = 29\n",
      "12 : room = 25\n",
      "13 : lecture = 22\n",
      "14 : file = 22\n",
      "15 : working = 20\n",
      "16 : install = 19\n",
      "17 : matlab = 19\n",
      "18 : i’ve = 19\n",
      "19 : session = 19\n",
      "20 : don’t = 18\n",
      "21 : id = 18\n",
      "22 : meeting = 18\n",
      "23 : github = 18\n",
      "24 : values = 18\n",
      "25 : city = 17\n",
      "26 : well = 17\n",
      "27 : email = 17\n",
      "28 : code = 17\n",
      "29 : zoom = 17\n",
      "30 : week = 17\n",
      "31 : moodle = 16\n",
      "32 : bit = 16\n",
      "33 : tutorial = 16\n",
      "34 : aidan = 16\n",
      "35 : breakout = 15\n",
      "36 : you! = 15\n",
      "37 : why = 15\n",
      "38 : lot = 15\n",
      "39 : today = 14\n",
      "40 : ah = 14\n",
      "41 : learning = 14\n",
      "42 : yes, = 14\n",
      "43 : wrong = 14\n",
      "44 : visual = 13\n",
      "45 : science = 13\n",
      "46 : ml = 13\n",
      "47 : guess = 13\n",
      "48 : app = 13\n",
      "49 : you’re = 13\n",
      "50 : lectures = 13\n",
      "51 : back = 13\n",
      "52 : share = 13\n",
      "53 : thought = 13\n",
      "54 : labs = 13\n",
      "55 : repo = 13\n",
      "56 : feel = 12\n",
      "57 : read = 12\n",
      "58 : can’t = 12\n",
      "59 : long = 12\n",
      "60 : agree = 12\n",
      "61 : mac = 12\n",
      "62 : feedback = 11\n",
      "63 : ask = 11\n",
      "64 : book = 11\n",
      "65 : worked = 11\n",
      "66 : check = 11\n",
      "67 : there’s = 11\n",
      "68 : works = 11\n",
      "69 : year = 11\n",
      "70 : test = 11\n",
      "71 : part = 10\n",
      "72 : friday = 10\n",
      "73 : tableau = 10\n",
      "74 : waiting = 10\n",
      "75 : start = 10\n",
      "76 : 🤣 = 10\n",
      "77 : it. = 10\n",
      "78 : python = 10\n",
      "79 : give = 10\n",
      "80 : exercise = 10\n",
      "81 : issues = 10\n",
      "82 : missing = 10\n",
      "83 : meant = 9\n",
      "84 : full = 9\n",
      "85 : online = 9\n",
      "86 : research = 9\n",
      "87 : slides = 9\n",
      "88 : slide = 9\n",
      "89 : windows = 9\n",
      "90 : join = 9\n",
      "91 : make = 9\n",
      "92 : great = 9\n",
      "93 : 👍 = 9\n",
      "94 : click = 9\n",
      "95 : based = 9\n",
      "96 : open = 9\n",
      "97 : submit = 9\n",
      "98 : kicked = 9\n",
      "99 : dataset = 9\n",
      "100 : left = 9\n",
      "None\n"
     ]
    }
   ],
   "source": [
    "top100 = printTop100(wordDict)\n",
    "print(top100)"
   ]
  }
 ],
 "metadata": {
  "kernelspec": {
   "display_name": "Python 3",
   "language": "python",
   "name": "python3"
  },
  "language_info": {
   "codemirror_mode": {
    "name": "ipython",
    "version": 3
   },
   "file_extension": ".py",
   "mimetype": "text/x-python",
   "name": "python",
   "nbconvert_exporter": "python",
   "pygments_lexer": "ipython3",
   "version": "3.7.7"
  }
 },
 "nbformat": 4,
 "nbformat_minor": 4
}
